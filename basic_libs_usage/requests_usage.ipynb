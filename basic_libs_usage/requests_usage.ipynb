{
 "cells": [
  {
   "cell_type": "code",
   "execution_count": 12,
   "metadata": {},
   "outputs": [
    {
     "name": "stdout",
     "output_type": "stream",
     "text": [
      "statu_code: 200, text: {\n",
      "  \"args\": {}, \n",
      "  \"headers\": {\n",
      "    \"Accept\": \"*/*\", \n",
      "    \"Accept-Encoding\": \"gzip, deflate\", \n",
      "    \"Connection\": \"close\", \n",
      "    \"Host\": \"httpbin.org\", \n",
      "    \"User-Agent\": \"python-requests/2.19.1\"\n",
      "  }, \n",
      "  \"origin\": \"121.35.209.73\", \n",
      "  \"url\": \"https://httpbin.org/get\"\n",
      "}\n",
      ", cookies: <RequestsCookieJar[]>, content: b'{\\n  \"args\": {}, \\n  \"headers\": {\\n    \"Accept\": \"*/*\", \\n    \"Accept-Encoding\": \"gzip, deflate\", \\n    \"Connection\": \"close\", \\n    \"Host\": \"httpbin.org\", \\n    \"User-Agent\": \"python-requests/2.19.1\"\\n  }, \\n  \"origin\": \"121.35.209.73\", \\n  \"url\": \"https://httpbin.org/get\"\\n}\\n'\n"
     ]
    }
   ],
   "source": [
    "import requests\n",
    "\n",
    "url = 'https://httpbin.org/get'\n",
    "res = requests.get(url)\n",
    "print(f'statu_code: {res.status_code}, text: {res.text}, cookies: {res.cookies}, content: {res.content}')"
   ]
  },
  {
   "cell_type": "code",
   "execution_count": 13,
   "metadata": {},
   "outputs": [
    {
     "name": "stdout",
     "output_type": "stream",
     "text": [
      "method: POST, statu_code: 200, text: {\n",
      "  \"args\": {}, \n",
      "  \"data\": \"\", \n",
      "  \"files\": {}, \n",
      "  \"form\": {\n",
      "    \"action\": \"test\"\n",
      "  }, \n",
      "  \"headers\": {\n",
      "    \"Accept\": \"*/*\", \n",
      "    \"Accept-Encoding\": \"gzip, deflate\", \n",
      "    \"Connection\": \"close\", \n",
      "    \"Content-Length\": \"11\", \n",
      "    \"Content-Type\": \"application/x-www-form-urlencoded\", \n",
      "    \"Host\": \"httpbin.org\", \n",
      "    \"User-Agent\": \"python-requests/2.19.1\"\n",
      "  }, \n",
      "  \"json\": null, \n",
      "  \"origin\": \"121.35.209.73\", \n",
      "  \"url\": \"https://httpbin.org/post\"\n",
      "}\n",
      ", cookies: <RequestsCookieJar[]>, content: b'{\\n  \"args\": {}, \\n  \"data\": \"\", \\n  \"files\": {}, \\n  \"form\": {\\n    \"action\": \"test\"\\n  }, \\n  \"headers\": {\\n    \"Accept\": \"*/*\", \\n    \"Accept-Encoding\": \"gzip, deflate\", \\n    \"Connection\": \"close\", \\n    \"Content-Length\": \"11\", \\n    \"Content-Type\": \"application/x-www-form-urlencoded\", \\n    \"Host\": \"httpbin.org\", \\n    \"User-Agent\": \"python-requests/2.19.1\"\\n  }, \\n  \"json\": null, \\n  \"origin\": \"121.35.209.73\", \\n  \"url\": \"https://httpbin.org/post\"\\n}\\n'\n"
     ]
    }
   ],
   "source": [
    "url = 'https://httpbin.org/post'\n",
    "\n",
    "data = {'action': 'test'}\n",
    "res = requests.post(url, data=data)\n",
    "print(f'method: {res.request.method}, statu_code: {res.status_code}, text: {res.text}, cookies: {res.cookies}, content: {res.content}')"
   ]
  },
  {
   "cell_type": "markdown",
   "metadata": {},
   "source": [
    "### 解析json"
   ]
  },
  {
   "cell_type": "code",
   "execution_count": 14,
   "metadata": {},
   "outputs": [
    {
     "name": "stdout",
     "output_type": "stream",
     "text": [
      "{'args': {}, 'headers': {'Accept': '*/*', 'Accept-Encoding': 'gzip, deflate', 'Connection': 'close', 'Host': 'httpbin.org', 'User-Agent': 'python-requests/2.19.1'}, 'origin': '121.35.209.73', 'url': 'https://httpbin.org/get'}\n"
     ]
    }
   ],
   "source": [
    "url = 'https://httpbin.org/get'\n",
    "res = requests.get(url)\n",
    "print(res.json())"
   ]
  },
  {
   "cell_type": "markdown",
   "metadata": {},
   "source": [
    "### 获取二进制数据res.content"
   ]
  },
  {
   "cell_type": "code",
   "execution_count": 16,
   "metadata": {},
   "outputs": [
    {
     "name": "stdout",
     "output_type": "stream",
     "text": [
      "�PNG\r\n",
      "\u001a\n",
      "\u0000\u0000\u0000\r",
      "IHDR\u0000\u0000\u0001\r",
      "\u0000\u0000\u0000_\b\u0002\u0000\u0000\u0000}A\u0005\u0017\u0000\u0000\u0000\u0001sRGB\u0000��\u001c",
      "�\u0000\u0000\u0000\u0004gAMA\u0000\u0000��\u000b",
      "�a\u0005\u0000\u0000\u0000\tpHYs\u0000\u0000\u000e�\u0000\u0000\u000e�\u0001�o�d\u0000\u0000\u0012�IDATx^��KU���?���a(\u0016J�F-\u001bI�T(����(*Jb\u0018)I��JK�R��(I���lQ�\u0014�\u001bERh�\u0018�K�'�<����2_��k�<~���̹��<g^3gf��}�X,:�N,\u0016=V'\u0016�\u001e",
      "�\u0013�E�ՉŢ���b�cub��:�X�X������~�����hKKKmmmMMͩS����l1������roo�޽{��\u0018\u001f\u001f��E��N>}�400��ٹ���K\u0016\u001d",
      "����_��\f",
      "��˩�0***VVVhmQ������\u000f\u001d",
      ":���\u001b7xբcff�����͛79WݣG�\u001c",
      "���|�23X��ur��aVj�����������\u0016\t������={����8\u001f�\u0001\u001d",
      "\u0005nJ��illd\u0006�\u0012�NX�^\u000e\u001e",
      "<\b�oll��\u0012\u0006\"���ϣ�*++���o^͋k׮9�R�o�>Z[��ԉ\u0003Z,De��\u0004`5������R���G��o \u0001\u001e",
      "��EI\"����ɯ\b�QYYgg'/�˳g��Cy;�e��I����ʎ\u001c",
      "9�K�����/\u0011����F\u0016\u001d",
      "V'\u0019�:*�OJ5����\u0016��������cu�!��\u0002��˼�;ccc�\u0012E����H\"au�!��\u0002�����;���555�ר���u�\u0016\u0013,�X�d\b�\u0000\u001au^-\u0005###��\u0006\u0007\u0007?|��K�(X�d\b���s�x�\u0014|��y{{�\u001f,ѱ:�\u0010�Q�C�\u000e��+��$CXG\u0005��˷���`�ڰ:�\u0010�Q��/_2��au�!��\"���c��k��$CXGEFFF�`����t������188833��*̕��k׮���\u000f\u000f\u000f߽{wuu�\t�`\u001d",
      "\u00159{�,\u0013r\u0007������_��/�� ��>|�[�nuww�?���缚\u001e",
      ";;;���CCCڷ���dzz:��)(sjjʷ\u0019\u0006���:\u0006p@��~���ѣG�Ckk�C����\u0017ܰ��wKK\u000b",
      "̘'\",��w�}Ǆ|��?***��PYYY]]���\u0015���}ccc�G \u0015&�\u0004\u001e",
      "\u00008�)\\�\u00168}�455�8qb}}������9~�8o饪�jssscc���״����ہ�\u0001�mL.ǎ\u001d",
      "{��\t�\u001b��\u0002����\u0013Ѓዝ<y����555��x�\u001b\u001a\u001a.\\���\u0017~�iD�O�^@��]���NZ\u0014AU|��ɉ�&�>�貲�ׯ3AB�:���#���ƿ��jkk��>\u001e",
      "�|��\u0005�]����W+�F\")D\u0004\u0001\u0000\\΂\f",
      "`6�gϞ1�˃\u0007\u000fd�=�����/F���^Bu�{��d/���+�\u0013\u0000\u0017���t�\u0012\u000b",
      "-���3YB�:��\u001b\u001b\u001bQ�軙\\\u0000\u000f\u0001-�Ȟe\u0005�p�F\u0006��f�����=}����`\u001e",
      "�;w�0�ˁ\u0003\u0007h�\u0003��+W\"��aN/A��*�1�ˏ?��丠OfY^\u0010��BBj:��\u000b",
      "}+�\u0004���=-\u0012�_�ޠwfY^\u0010\u000e�\u0007�&�`]pG\u0004?�@\u0010��R���\u001e",
      "�\u0005 �#�����\u0004b\u001b�����Aݸq\u0003u(\u000b",
      "Kd����l��ŧ���>Z\u0004�u�� /�sg�\u001f�8���Тp�M�ٕ��E\u0016\u0014���\u0004*\u0002-1���\u0000\u0003cʹ�9\u0004��#���F�\u0002(\u0004CC�0�\u0012DSh�߿�\u0007����x|����ѣ�G\u001f1�\u0017��ġ��E\u0000�@B\u000b",
      "\u000b",
      "�=�!+� ��E�Hё\u000f_(�'�|h+�և��ܹs���\r",
      "A\u000eM\u0005���M�QZ+�z�*�� X��޽{�����槟~��ǆ��i�E�����F\u0001��\tBM���J'\u0000q\u000b",
      "�\n",
      "��jt\u0010��\u0014/\bZh�\u0004�6�#�c������Q�\\i'������\u0005y�!\u001fM�@\f",
      "����\r",
      "ru�vEL��ԋZ'���Q�,t� �ir2ԉ�w\u0003\u0013�\u0006Y]]e�\u0000\u000b",
      "\u000b",
      "\u000b",
      "4�����А3{#�!����aЂ\u0010���$��]�\u0005h*\u0007�f�����\u0007����V&ˡ�\u0017�NJ�>\u001a\u0005�B'\u0018�1MN�:�����\u001c",
      "�s�\u000e�{ٿ��9��}��\u0019Z\u000b",
      "���G��Gh��\u0002�\t\u00063��D�J@\u0017a>\t������E�\u001c",
      "t�L�@S/Z���}�\u000b",
      "��N\u0010�2MN�:\u0001\u0000�O��\u000f\u000e�\u001b��\u000b",
      ":\n",
      "ZH�x�\"M\u0005�m������\u001e",
      "4����\u000f?�y�v\u0001h\u001aF�ͷ�o�f~\u0001\\d�\u0004�y��\u0004��}�\u000b",
      "��N�_\u0006d�\u0013\u0004�+p��M&��&'4�\u0001���\u0017/^\u0004C���z���\u0002\f",
      ":�$W-\u0018��\"\u001e",
      "\u001d",
      "�k8�2\b��\u0016\u0011���a\u0011\u0002�\u0013Yi��D'�r\u001f�]�,tb2K��N^�|I�\u0002G�\u001e",
      "e�\u0019O�<aN/�a��$�E<\u0018;6��\r",
      "�\u0011~V���GCC\u0003��311�R\u0004�\u0005�΋�NJ�>@�\u0000Y���ݻL���N��w\u0003��L0 tN\u0016��dXYY\tv&�\u001aLN\u0000����I����C^R��ڇ�\u0011�����,E@���v^Lt\u0002�w�\u0003M\u0003d�\u0013�|\f",
      "�\\'��\u001a\u0018\u0018`�\u0001ǎ\u001d",
      "c6/귧��\u001a�T\u000e\bmnnƘ\u0004\u0011?��\u0005\u000e\u001c",
      "8���|��!tjx�޽��@;/�:��}\u000e4\r",
      "��NL��f��W�^Ѵ@uu��ڤ���`�\u0000�aFp�6���?��\u0000(��3��\u0016Hr �ӕ\u0005�����\u0004�y1�I��s�u�,t����49��\u0004�\u001e",
      "���i&(�w�\u001e",
      "3xQ�\u0014�*�y1��ZЙ�f��\u0002I����?�\u0014/uuu��@;/�:\u0001y�υ�\u0001R�\t�h&(�C'����ɓLP����\f",
      "\u0002h��k�~��7�zA�H�\u001c",
      "�\u0005d�M��D;�@;/�:��}.�\u0010 u����3AI\u001e",
      ":����$����i-�\u0011\u0002�%��������\u0014-r��\u0016���\u0016\u001d",
      "�N���i��\\'y�υ\u0019\u0002��\u0013\f",
      "���$\u000f�\u0000�y�P@���/^���\u0017m{컑˩S�h�#��@�7'@����6ZH��\u0017s������\f",
      "\u0001R׉ᮁ�t�;2\u001d",
      "��z\u0007���8M\u00050`U�\u0012�\u00103t��0??O����\u0005��J�L'�����\u0012I'��O�y\u0002�����~&(�I'�_�f�\"�]r�%h'�]u\u0012���a\u000f�\"��@\u0016��ŋ\u0017i!�v^\"�$\u001f��0O��ub�2\u0007�\u0013��\u0015�\u001d",
      "Z��\u0017\u0005��ߧ����9���\u001bt�d�$�\t��B\u0002��D�\t��}\"�\u0013 u�\u0018�\u0018�Ӊo�-�R6��\n",
      "��@uu�vZ��_~�u\u0018�\u00135)�\u001b\u000b",
      "$y�#Ӊ���i�%�Nrp�\b�\u0005H]'��������2�\u0014��#��룅�{Г\u0002�/i\u001d",
      "FKK\u000b",
      "��7\u0016Hrp�L'��ϴ�\u0012U'9�O��\u0002��\u0013�����\t�mm��.t\u0002����\u0016\u0002���L�\u0013�!�t�w���rx�\"&�K\u0015�t�������:\u0001Y�O��\u0002��\u0013�#Es�I�'�b�бx]]�ɖ��w[.1�\f",
      "\u0019[[[&��x�\"\t�Ց�D{N\u0012��Ĩ���'\u0001\u0012�\u0004_�\u0005\u00151�\u0006s�I��\u0006�\u000f\u001f\u001e",
      "\u001e",
      "\u001e",
      "��d\u0015�h�����\u0019$��;�\u00005{��9�3�x�\"���L��L'�e���\u0012C'Y�O$t&\u0000LLL�\"\u0016���jkk��#W���\u0002����Vu��W\u0011����\u000b",
      "$��p���\tEiw�\u0002�.1\u001e",
      "\u0017\u0011�N���h�%^�DdG̠\u0012h\u0011\u001d",
      "D\u0001��\u0018����['Ag�����>�{D�L(�\u0016�I��[�\u0014�𥒌\u0007\u000f\u001e",
      "8�kll���\u0019\u001c",
      "\u001c",
      "T���M]���u��D\u001b9��K<�d�>\u0011�j��E�\u0014@\u0001�\u0000�R����Lӑ�NB��o�\u0016\u0016\u0016xI��\t\t�>.�~���p\u0010w>\r",
      "A\u0017�(hF���1vI�C\u000b",
      "��\u0004߁�rh�%�N2u�H��r�\u0010�\u0016Q@�����\"\u0004\f",
      "��\u0002y�\u0004\u001c",
      "9r����� ��׃\r",
      "��\u0006\u001f�eE\"�\u0004h\u001d",
      "\u001d",
      "�xb|ó�\u0003s�G�\u0014n����j\n",
      "Bub��^��\u0004d�>�Н� �:=\u0004��1�\"�S\tt\u0012���}Y�;i\u0017\u001f��&�[��\u000b",
      "\\\u0010'�\u001e",
      "���\u0017ic:\u0006�Q�||��\u0004O-����Kl�d�>\u0011D�,�\u000b",
      "�K\u000b",
      "\u0003fffd����\u0001�%�\t�0���\u0012�իW�\u0001��e�\u000fY���͋���\u0005�\u0016�(���̴0hT ɑ�\u000e�:1i_i�%�N2u�\u000b",
      "2��\u0000��\u001c",
      "�@ŢX\u0007�EJ�\u0013\u0010���\u0013'|\u0018>���\u0014A//�R�5RH���s�\u0014P�\u0017�Q�3g��j\\Bub����^b�\u0004d�>\u0017�Y-�dj\u0018�%Ƣ� �|\u0019Qit\u0012�w\u00071��\u00101,\u001c",
      "@Qh�a���f��D���T/[�Q�$�\"�P���\u0007���$:��}\u000e\b�}]�\u000b",
      "\u0006\u001b�pH\u0006Ɓ��\u0010\u000b",
      "����[\u001a� \u0017�+19X)���!\u0016\u0011�={�8���\u0013���\r",
      "\u0014m\u0012-\n",
      "$�-�P�\\�t��rh�%�N�v�Cp\u001a��j��\u0017�#t+e�n��\u001e",
      "�F'��ѣ,B\u0002\u001e",
      "Yã�C�sɂ�a�����9Y�\u0006\f",
      "����/\u0005�:19ː�^�019\u0016Y�\u000f<x��e\u0005@D\u0007��z\u0015t#\b�}��K�ɔ�K�t��u���\u001azzb$���\u001a\u001b\u001b�A��ٳ���N�x��\u0018;�G�&�*_��\u0012M&M�$�Y\trp\u001f�\u001d",
      "��\u0003A/F}}}}\b��[�B\u0000B�w���C�H3+%Ӊ�]���\u00005333{u�\u000f\u001a\u0015<\u0001��E�L�\u0003Af(��7�&�����f�E�36���\u0012��[>�gq�p\u0016k��+#�GJ��#G��y������YJ\u0018555�\u000b",
      "9�@ɡ�i\f",
      "Pё\u000e\u0016b�d�@�\u0004\u000f�מ�\t\u0007�T �I�Ars_��\u000eD�u�G�1�\u0014��H=^L�TTT��M��Lv��C",
      "XA��wvv\u0006�c\u0013�#Ai\b���\t̟�i/x�}/RM�\u0019\u0005�\u0012I�Gr��}\u0017.\\`��p\u000fCZ]]\u0015�ij�\u0015\u0010��\u0013��\t{m턉�w�����祥%(\u001c",
      "Am{{;j\r",
      "#����K�.��A/��}�\u00187o��ǩ�)��\u0018W�k\u000e�L�1��p��'''��\u0000�9�&��\u0010�Ѻ\u0000d�p����\u0010Ņ��т\u0006Nܟ���C&\u0014��\u001b7n\u0018����\u0004�'K-��.v��\u0012:u�V�RZ����\u001f����3�\u0002i�[{�\"\f",
      "\u001b\f",
      "1��\u0005�y�ո��}\b�n߾=666::z��\u0015�Ҋw�Ǐ\u001f\u000f]u���@�\u0002�\u001bZ�����H����W<���1����m`\u0018}��U\b&�r@\u0019O�>E����#~ց��]��\u0004�I�=�C���@�\u000f�@�����\u000f�\\�n������Z�\u0011��͝��\t����j��\u0018\u0006�R2|?�\u0017��}KT��aؐ|��m�O�\u0013�H��r\u0013B�Y�\u0018��o�G��p\r",
      "�m��H'�X\u0003\u0002��\b�%g�M��@'�7�r�\u0013�Ge-9�\r",
      "��\u0004:�8R6�g�\u000f�R*�M������U��Dc(9<<�X��^\u0006b�\u001a�>\u0019)���۷����\u0017,ζr\u0019��X2ºOF�qWss3Z��\u001f?nmm=|�prrrjjjmmmii�5*���w\u0003�}���\u0013w\u0019iSS���š��J�s=�b\n",
      "Kr��d��\u0013��\\ĵ�U\u0006CCC,�R:��d��\u0013q�_$�\u0003D�,�R\"��\u0014��\u0013Ԕ��q�M��;�ϒ\"�}jRӉb73���w�����XYY����|�rcc#|SYY��\u001aAK\f",
      "��Ԥ\u0019w��Ӡ6eG0�����]�u�������þ\u0013f����\u001d",
      "�h�\u001f�>\u0019)�\u0004|��izz\u001a5����͛�7uY�ĺ/��ub����:�X�X�X,z�N,\u0016=V'\u0016�\u001e",
      "�\u0013�EǗ/�\u0003��|\u0012�\u0014� \u0000\u0000\u0000\u0000IEND�B`�\n",
      "b'\\x89PNG\\r\\n\\x1a\\n\\x00\\x00\\x00\\rIHDR\\x00\\x00\\x01\\r\\x00\\x00\\x00_\\x08\\x02\\x00\\x00\\x00}A\\x05\\x17\\x00\\x00\\x00\\x01sRGB\\x00\\xae\\xce\\x1c\\xe9\\x00\\x00\\x00\\x04gAMA\\x00\\x00\\xb1\\x8f\\x0b\\xfca\\x05\\x00\\x00\\x00\\tpHYs\\x00\\x00\\x0e\\xc3\\x00\\x00\\x0e\\xc3\\x01\\xc7o\\xa8d\\x00\\x00\\x12\\xd1IDATx^\\xed\\x9d\\xffKU\\xc9\\xff\\xc7?\\xff\\x9d\\x8aa(\\x16J\\xcbF-\\x1bI\\xa1T(\\x85\\xa1\\xb1\\xa1(*Jb\\x18)I\\x8b\\xe1JK\\xd1R\\x98\\xb4(I\\x85\\x92\\xb8lQ\\xb4\\x14\\x89\\x1bERh\\xac\\x18\\x8aK\\xef\\'\\xf7<\\xef\\xf9\\xcc\\xf92_\\xce\\xd7k\\xdb<~\\x88\\xee\\x99\\xd7\\xcc\\xb9\\xce\\xeb<g^3gf\\xee\\xff}\\xb1X,:\\xacN,\\x16=V\\'\\x16\\x8b\\x1e\\xab\\x13\\x8bE\\x8f\\xd5\\x89\\xc5\\xa2\\xc7\\xea\\xc4b\\xd1cub\\xb1\\xe8\\xb1:\\xb1X\\xf4X\\x9d\\xfc\\xf7\\xd9\\xde\\xde~\\xfc\\xf8\\xf1\\xe8\\xe8hKKKmmmMM\\xcd\\xa9S\\xa7\\xe6\\xe6\\xe6\\x98l1\\xc0\\xea\\xe4\\xbf\\xcc\\xf2\\xf2roo\\xef\\xde\\xbd{\\xcb\\xc2\\x18\\x1f\\x1f\\xa7\\x9dE\\x87\\x91N>}\\xfa400\\xd0\\xd9\\xd9\\xb9\\xb3\\xb3\\xc3K\\x16\\x1d\\x9b\\x9b\\x9b\\xfc_\\x89\\x80\\x0c\\xca\\xcb\\xcb\\xa9\\x890***VVVhmQ\\xa2\\xd7\\xc9\\xfb\\xf7\\xef\\x0f\\x1d:\\xe4\\xd4\\xec\\x8d\\x1b7x\\xd5\\xa2cff\\x86\\xff\\xfb\\xf2\\xe5\\xcd\\x9b79W\\xdd\\xa3G\\x8f\\x1c\\x97\\xa9\\xb9|\\xf923X\\x94\\xe8ur\\xf8\\xf0aVj\\x81\\x86\\x86\\x86\\xd9\\xd9\\xd9\\x7f\\xff\\xfd\\x97\\xc9\\x16\\t\\x8b\\x8b\\x8b\\xce\\x7f\\xa0\\x90={\\xf6\\xf4\\xf4\\xf48\\x1f\\xf3\\x01\\x1d\\x05nJ\\x9f\\xc9illd\\x06\\x8b\\x12\\xbdNX\\xa3^\\x0e\\x1e<\\x08\\xf7oll\\xd0\\xc8\\x12\\x06\"\\x9f\\xf3\\xe7\\xcf\\xa3\\xba*++\\xff\\xfe\\xfbo^\\xcd\\x8bk\\xd7\\xae9\\xceR\\xb0o\\xdf>Z[\\x94\\xc4\\xd4\\x89\\x03Z,De\\xb4\\xb3\\x04`5\\x95\\x95\\xf5\\xf5\\xf5\\xf1R\\x8e\\xa0\\xcfG\\xe7\\xcfo \\x01\\x1e\\xa4\\xb5EI\"\\x9d\\x80\\xfc\\x9b\\xc9\\xaf\\x08\\xd6QYYgg\\'/\\xe5\\xcb\\xb3g\\xcf\\xd4Cy;\\xe5e\\x88\\xd5I\\x86\\xb0\\x8e\\xca\\xca\\x8e\\x1c9\\xc2K\\xb9\\xd3\\xdb\\xdb\\xcb/\\x11\\xa0\\xab\\xab\\x8bF\\x16\\x1dV\\'\\x19\\xc2:*\\x8cOJ5\\xa5\\xbe\\xb6\\xb6\\x16\\xfa\\xfe\\xa4\\xad\\xad\\xcd\\xce\\xf2\\x9bcu\\x92!\\xac\\xa3\\x02\\xcb\\xcb\\xcb\\xbc\\x9a;ccc\\xfc\\x12E\\xba\\xbb\\xbb\\xadH\"au\\x92!\\xac\\xa3\\x02\\xb3\\xb3\\xb3\\xbc\\x9a;\\x9b\\x9b\\x9b555\\xce\\xd7\\xa8\\xaa\\xaa\\xbau\\xeb\\x16\\x13,\\xc6X\\x9dd\\x08\\xeb\\xa8\\x00\\x1au^-\\x05###\\x88\\xbe\\x06\\x07\\x07?|\\xf8\\xc0K\\x96(X\\x9dd\\x08\\xeb\\xa8\\xc0\\xb9s\\xe7x\\xb5\\x14|\\xfe\\xfcy{{\\x9b\\x1f,\\xd1\\xb1:\\xc9\\x10\\xd6Q\\x81C\\x87\\x0e\\xf1\\xaa\\xe5+\\xc4\\xea$CXG\\x05\\xca\\xcb\\xcb\\xb7\\xb6\\xb6\\x98`\\xf9\\xda\\xb0:\\xc9\\x10\\xd6Q\\x91\\x97/_2\\xc1\\xf2\\xb5au\\x92!\\xac\\xa3\"\\xf7\\xee\\xddc\\x82\\xe5k\\xc3\\xea$CXGEFFF\\x98`\\xf9\\xda\\xf8\\xfat\\xb2\\xb0\\xb0\\xd0\\xd1\\xd1188833\\x93\\xfa*\\xcc\\x95\\x95\\x95k\\xd7\\xae\\xf5\\xf7\\xf7\\x0f\\x0f\\x0f\\xdf\\xbd{wuu\\x95\\t\\xb1`\\x1d\\x159{\\xf6,\\x13r\\x07\\x95\\xd6\\xd5\\xd5\\xf5\\xd7_\\x7f\\xf1\\xf3\\x97/\\xa5\\x9a \\x8e\\xe4>|\\xc9[\\xb7nuww\\x9f?\\x7f\\xfe\\xf9\\xf3\\xe7\\xbc\\x9a\\x1e;;;\\x93\\x93\\x93CCC\\xda\\xb7\\xae\\xe9\\xebdzz:\\x8b\\xdd)(sjj\\xca\\xb7\\x19\\x06\\xf4\\xf6\\xf6:\\x06p@\\xa4\\xfb~\\xfe\\xfc\\xf9\\xd1\\xa3G\\xd0Ckk\\xeb\\xa1C\\x87\\xf6\\xed\\xdb\\x17\\xdc\\xb0\\x81\\xc1wKK\\x0b\\xcc\\x98\\'\",\\xa5\\xc8w\\xdf}\\xc7\\x84|\\xf9\\xe3\\x8f?***\\x9c\\xefPYYY]]\\x8d\\x8f\\xb2\\x15\\xf5\\xbb\\xc7}ccc\\xa2G \\x15&\\xa4\\x04\\x1e\\x008\\xd7)\\\\\\xfb\\x168}\\x9d455\\x9d8qb}}\\x9d\\x9f\\xd3\\xe0\\x9f\\x7f\\xfe9~\\xfc8o\\xe9\\xa5\\xaa\\xaajssscc\\xe3\\xf5\\xeb\\xd7\\xb4\\xd6\\xf1\\xf6\\xed\\xdb\\x81\\x81\\x01\\x93mL.\\xc7\\x8e\\x1d{\\xf2\\xe4\\t\\xf3\\x1b\\xc3\\xcc\\x02\\x8a\\xcd\\xc0\\xf8\\x13\\xd0\\x83\\xe1\\x8b\\x9d<y\\xf2\\xe0\\xc1\\x83555\\xf8\\x86x\\xac\\x1b\\x1a\\x1a.\\\\\\xb8\\x80\\xd6\\x17~\\xa5iD\\xa0O\\xde^@\\xa6\\x93]\\xe2\\xbe\\xce\\xceNZ\\x14AU|\\xfa\\xf4\\x89\\xc9\\x89\\x81&\\xd1>\\xb2\\xe8\\xb2\\xb2\\xeb\\xd7\\xaf3AB\\xca:\\xf9\\xf8\\xf1#\\xbc\\xeb\\xac\\xe5\\xc6\\xbf\\xf8\\xdbjkk\\xc5\\xee>\\x1e\\xe8|\\x9d\\xdb\\x05\\xc1]\\xb6\\xb7\\xb7\\xcdW+\\xa1F\")D\\x04\\x01\\x00\\\\\\xce\\x82\\x0c`6\\x81g\\xcf\\x9e1\\xcd\\xcb\\x83\\x07\\x0fd\\xa7=\\xb8\\xc0\\xa0\\xaf\\xaf/F\\xa0\\xcb\\xfc^Bu\\xb2{\\xdc\\xc7d/\\xbf\\xfe\\xfa+\\x93\\x13\\x00\\x17\\xa0\\xa1\\xbct\\xe9\\x12\\x0b-\\xf0\\xfb\\xef\\xbf3YB\\x9a:\\x81\\xdc\\x1b\\x1b\\x1bQ\\xd1\\xe8\\xbb\\x99\\\\\\x00\\x0f\\x01-\\xe2\\x82\\xc8\\x9ee\\x05\\xc0p\\x82F\\x06\\xa0\\xb5f\\xb6\\xb8\\xd4\\xd5\\xd5=}\\xfa\\x94\\xc5\\xe9`\\x1e\\x81;w\\xee0\\xcd\\xcb\\x81\\x03\\x07h\\xa1\\x03\\xcf\\xee\\x95+W\"\\xbd\\x8aaN/A\\x9d\\xec*\\xf71\\xd9\\xcb\\x8f?\\xfe\\xc8\\xe4\\xb8\\xa0OfY^\\x10\\x9a\\xd2BBj:\\xc1\\x90\\x0b}+\\x82\\x04\\xe7\\x96\\xdf\\x7f\\xff=-\\x12\\x8f_\\xd1\\xde\\xa0wfY^\\x10\\x0e\\x99\\x07\\xd3&\\xfb`]pG\\x04?\\x88@\\x10\\xcd\\xf3R\\x81\\x9e\\x9e\\x1e\\xf3\\x05 \\xcc#\\x80\\xf1\\xeb\\xc4\\xc4\\x04b\\x1b\\x8c\\x88\\xf0\\xe5\\xd1A\\xdd\\xb8q\\x03u(\\x0bKd\\xe0\\x8b\\x99\\xf7l\\xcc\\xe3\\xc5\\xa7\\x93\\xdd\\xe6>Z\\x04\\x90u\\xc8\\xe6\\xb0 /\\xdasg\\xd2\\x1f\\x9f8\\x8c\\x8c\\x8c\\xd0\\xa2p\\xfeM\\x92\\xd9\\x95\\xc5\\xc5E\\x16\\x14\\xc0\\xfc\\x8d\\x04*\\x02-1\\xb3\\x85\\x81\\x00\\x03c\\xca\\xb9\\xb99\\x04\\xca\\xe2#\\xd8\\xd6\\xd6F\\x8b\\x02(\\x04C\\x7fC\\xa90\\x8f\\x12DSh\\xbf\\xdf\\xbf\\x7f\\x8f\\x07\\xf4\\xf2\\xe5\\xcbx|\\x99\\xa0\\xe3\\xe8\\xd1\\xa3\\x86G\\x1f1\\x83\\x17\\xd9\\xf8\\xc4\\xa1\\xe4\\xee\\xa3E\\x00\\xed@B\\x0b\\x0b\\xf2\\xa2=\\xe9!+\\x9d \\xa8\\xa5E\\x81H\\xd1\\x91\\x0f_(\\xe9\\x82\\'\\xcc|h+\\xdb\\xd6\\x87\\x87\\xe0\\xdc\\xb9s\\xf3\\xf3\\xf3\\xb2\\x86\\rA\\x0eM\\x05\\x9a\\x9b\\x9bM\\x9eQZ+\\xb9z\\xf5*\\xad\\x8b X\\x87\\xdb\\xde\\xbd{\\xb7\\xb4\\xb4\\x84\\xde\\xe6\\xa7\\x9f~\\x92\\xb5\\xc7\\x86\\xdb\\xeei\\xedE\\xad\\x93\\x92\\xbb\\x8fF\\x01\\xb2\\xd0\\tBM\\xa6\\xc9\\xc9J\\'\\x00q\\x0b\\x8d\\n\\xe7\\xb3\\xf0jt\\x10\\x95\\xb2\\x14/\\x08Zh\\xa1\\x04\\x836\\x8c#\\x83c\\xf7\\x9a\\x9a\\x9a\\xd1\\xd1Q\\x8c\\\\i\\'\\xe1\\xf1\\xe3\\xc7\\xcc\\xe0\\x05y\\xb5!\\x1fM\\x95@\\x0c\\xb4\\x96\\x83\\xfe\\rru\\xe7vEL\\xb2\\xd3\\xd4\\x8bZ\\'\\xa0\\xb4\\xee\\xa3Q\\x80,t\\x82 \\x93ir2\\xd4\\x89\\xd8w\\x03\\x13\\x8f\\x06Y]]e\\xfe\\x00\\x0b\\x0b\\x0b4\\x92\\x80\\xc1\\xee\\xd0\\xd0\\x903{#\\x82!\\xc7\\xf8\\xf8\\xb8a\\xd0\\x82\\x10\\xcb\\xdd\\xe4$\\x82\\xa8]\\xfb\\x05h*\\x07\\xe3f\\xf3\\xb9\\xce\\xfb\\xf7\\xef\\x07\\xff\\x96\\xd6\\xd6V&\\xcb\\xa1\\xa9\\x17\\xadNJ\\xeb>\\x1a\\x05\\xc8B\\'\\x18\\xec1MN\\x86:\\xf1\\xf5\\xdd\\xf1\\xce\\x1c\\xb9s\\xe7\\x0e\\xf3{\\xd9\\xbf\\x7f\\xbf\\xba9\\xc7\\xf3}\\xe6\\xcc\\x19Z\\x0b\\xf4\\xf7\\xf7G\\x9d\\x86Gh\\xc4\\xcc\\x02\\xd0\\t\\x063\\xea\\xf9D\\x9aJ@\\x17a>\\t\\xe1\\xd0\\xde\\xde\\xce\\xccE\\xa0\\x1ct\\x98L\\x96@S/Z\\x9d\\x94\\xd6}\\xb4\\x0b\\x90\\x85N\\x10\\xd92MN\\x86:\\x01\\xee\\x81\\xab\\x00\\x91O\\xa4\\x97\\x0f\\x0e\\xf8\\x1b\\x98\\xdf\\x0b:\\nZH\\xb8x\\xf1\"M\\x05\\xe2m\\x96\\x82\\xe4\\xf0\\x94\\xf8\\xc2\\x1e4\\xb7\\xb8\\xfe\\xc3\\x0f?\\xbcy\\xf3\\x86v\\x01h\\x1aF\\xbc\\xcd\\xb7\\xb7o\\xdff~\\x01\\\\d\\xb2\\x04\\xday\\xd1\\xea\\x04\\x94\\xd0}\\xb4\\x0b\\x90\\x85N\\xb4_\\x06d\\xab\\x13\\x04\\xf1\\xb4+p\\xf3\\xe6M&\\x98\\x81&\\'4\\xe6\\x01\\xea\\xf9\\xc1\\x17/^\\x04C\\x94\\xfa\\xfaz\\xed\\xb4\\x86\\x02\\x0c:\\xe1$W-\\x18\\xb7\\xe0\"\\x1e\\x1d\\xc5k8\\xc72\\x08\\xaa\\x85\\x16\\x11\\x99\\x99\\x99a\\x11\\x02\\xda\\x13Yi\\xe7\\xc5D\\'\\xa5r\\x1f\\xa0]\\x80,tb2K\\x91\\xadN^\\xbe|I\\xbb\\x02G\\x8f\\x1ee\\x82\\x19O\\x9e<aN/\\xdaa\\xa5\\xb8$\\xc1E<\\x18;6\\xce\\xec\\r\\xba\\x11~V\\xe2\\xdc\\xd7GCC\\x03\\x93\\xa3311\\xc1R\\x04\\xb4\\x05\\xd2\\xce\\x8b\\x89NJ\\xe5>@\\xd3\\x00Y\\xe8\\xe4\\xee\\xdd\\xbbL\\x93\\x93\\xadN\\x80\\xd8w\\x03\\xb4\\xf4L0 tN\\x16\\xa8\\xcfdXYY\\tv&\\xf8\\x1aLN\\x00\\xba\\x94\\xc9\\xc9I\\x94\\xf6\\xf0\\xe1C^R\\xe2\\xdc\\xda\\x87\\xd3\\x11\\xc5\\xe3\\xf4\\xe9\\xd3,E@\\xbb\\xbc\\x92v^Lt\\x02\\xf2w\\x9f\\x03M\\x03d\\xa1\\x13\\xed|\\x0c\\xc8\\\\\\'\\xbe\\xca\\x1a\\x18\\x18`\\x82\\x01\\xc7\\x8e\\x1dc6/\\xea\\xb7\\xa7\\xbe\\x89\\x1a\\x87T\\x0e\\x08mnn\\xc6\\x98\\x04\\x7f\\x11?\\xeb\\xe0\\xbd\\x05\\x0e\\x1c8\\xc0\\xb4\\xe8|\\xf8\\xf0!tjx\\xef\\xde\\xbd\\xb4\\x90@;/\\x86:\\xc9\\xdf}\\x0e4\\r\\x90\\x85NL\\xf6\\x99f\\xae\\x93W\\xaf^\\xd1\\xb4@uu\\xb5\\xe1\\xda\\xa4\\xf5\\xf5\\xf5`\\xb7\\x00\\xb4aFp\\xf16\\xf8\\xf3\\xcf?\\x99\\x9c\\x00(\\x90\\xff3\\x83\\xf7\\x16Hr \\xb7\\xd3\\x95\\x05\\xa9\\xac\\xac\\xa4\\x85\\x04\\xday1\\xd4I\\xfe\\xees\\xa0u\\x80,t\\xb2\\xb6\\xb6\\xc649\\x99\\xeb\\x04\\xf8\\x1e\\xdc\\xe9\\xe9i&(\\xb9w\\xef\\x1e3xQ\\xd7\\x14\\xda*\\xday1\\xf9\\x9eZ\\xd0\\x99\\xf0\\x7ff\\xf0\\xde\\x02I\\xdc\\xfc\\xf3\\xcf?\\xb3\\x14/uuu\\xb4\\x90@;/\\x86:\\x01y\\xba\\xcf\\x85\\xd6\\x01R\\xd7\\t\\xbah&(\\xc9C\\'\\xbe\\xbe\\xfb\\xe4\\xc9\\x93LP\\xd2\\xd5\\xd5\\xc5\\x0c\\x02h\\xa2\\xd4k\\x8d~\\xfb\\xed7\\x9azA\\xbbH\\x8b\\x1c\\xe1\\xbd\\x05d\\xeb\\x85M\\x90\\xe9D;\\xa9@;/\\xe6:\\xc9\\xd3}.\\xcc\\x10 u\\x9d\\xd4\\xd7\\xd73AI\\x1e:\\xf1\\xf5\\xdd\\xc0$\\xd7\\xfe\\xfd\\xfbi-\\x80\\x11\\x02\\x93%\\xf4\\xf4\\xf4\\xd0\\xd4\\xcb\\xd4\\xd4\\x14-r\\x84\\xf7\\x16\\x80\\x8c\\x99\\x16\\x1d\\x99N\\xb4\\xaf\\x93i\\xe7\\xc5\\\\\\'y\\xba\\xcf\\x85\\x19\\x02\\xa4\\xae\\x13\\x0c\\xa2\\x98\\xa0$\\x0f\\x9d\\x00\\xb4y\\xccP@\\xfb\\xb3\\x80/^\\xbc\\xa0\\xa9\\x17m{\\xec\\xbb\\x91\\xcb\\xa9S\\xa7h\\x91#\\xbc\\xb7@\\xec7\\'@\\xa6\\x93\\xb6\\xb66ZH\\xa0\\x9d\\x17s\\x9d\\x80\\xdc\\xdc\\xe7\\xc2\\x0c\\x01R\\xd7\\x89\\xe1\\xae\\x81\\x9ct\\xe2;2\\x1d\\x8d\\x8dz\\x07\\xe2\\xf8\\xf88M\\x050`U\\xbf\\x12\\xc6\\x103t\\xec\\xe80??O\\xbb\\xbc\\xe0\\x8d\\x05\\x92\\xfcJ\\xa3L\\'\\xda\\xf5\\xa0\\xb4\\xf3\\x12I\\'\\xf9\\xb8O\\x84y\\x02\\xa4\\xae\\x93\\xfe\\xfe~&(\\xc9I\\'\\xaf_\\xbff\\x86\"\\xea]r\\x88%h\\'\\xa0]u\\x12\\xbc\\x8b\\x88a\\x0f\\x9b\"\\xbc\\xb1@\\x16\\xfd\\xc9\\xc5\\x8b\\x17i!\\x81v^\"\\xe9$\\x1f\\xf7\\x890O\\x80\\xd4ub\\xf22\\x07\\xe4\\xa4\\x13\\xe0\\xeb\\xbb\\x15\\xfd\\x1dZ\\x9d\\xd0\\x17\\x05\\xf7\\xef\\xdf\\xa7\\x85\\x84\\xb9\\xb99\\x9a\\x86\\xb1\\x1bt\\x92d\\x98$\\xd3\\t\\xae\\xd3B\\x02\\xed\\xbcD\\xd2\\t\\xc8\\xc1}\"\\xcc\\x13 u\\x9d\\x18\\x8e\\x18\\xf3\\xd3\\x89o\\xd5-\\xaaR6\\xf5\\x81\\n\\xa5\\x91@uu\\xb5vZ\\xf6\\x97_~\\xa1u\\x18\\x86\\x135)\\xc2\\x1b\\x0b$y\\x8d#\\xd3\\x89\\xf6\\x97\\xe9i\\xe7%\\xaaNrp\\x9f\\x08\\xb3\\x05H]\\'\\x86\\xbb\\xff\\xf3\\xd3\\xc9\\xf2\\xf22\\xf3\\x14\\x91\\xbd#\\xef\\xeb\\xeb\\xa3\\x85\\x80{\\xd0\\x93\\x02\\x8c/i\\x1dFKK\\x0b\\xed\\xf2\\x827\\x16Hrp\\x9eL\\'\\xda\\xcd\\xcf\\xb4\\xf3\\x12U\\'9\\xb8O\\x84\\xd9\\x02\\xa4\\xae\\x13\\xc3\\xe3\\xf3\\xf2\\xd3\\t\\xf0mm\\xc3\\xc0.t\\x02\\xa4\\xbe\\xbe\\x9e\\x16\\x02\\x8b\\x8b\\x8bL\\x96\\x13\\xea!\\x97t\\xe3\\xaew\\xef\\xde\\xf1\\x7frx\\xe3\"&\\xfbK\\x15\\xc8t\\xa2\\x9d\\x9f\\xa0\\x9d\\x97\\xa8:\\x01Y\\xbbO\\x84\\xd9\\x02\\xa4\\xae\\x13\\xc3#Es\\xd5I\\xe8\\x86\\'\\xdfb\\x90\\xd0\\xb1x]]\\x9d\\xc9\\x96\\xa6\\xd0w[.1\\x9e\\x0c\\x19[[[&\\xab\\xbcx\\xe3\"\\t\\x8f\\xd5\\x91\\xe9D{N\\x12\\xed\\xbc\\xc4\\xa8\\x8d\\xac\\xdd\\'\\xc2\\x9c\\x01\\x12\\xea\\x04_\\x83\\x05\\x151\\x8c\\x06s\\xd5I\\xb0\\xef\\x06\\x87\\x0f\\x1f\\x1e\\x1e\\x1e\\xa6\\x85d\\x15\\x93h\\xa0\\xa0\\xbb\\xbb\\x9b\\x19$\\x98\\x9f;\\xa1\\x005{\\xee\\xdc9\\x933\\xd7x\\xd7\"\\xed\\xed\\xedL\\x88\\x85L\\'\\xdae\\x85\\xb4\\xf3\\x12C\\'Y\\xbbO$t&\\x00LLL\\xd0\"\\x16\\xbe\\xa3\\xc9jkk\\x99\\xa0#W\\x9d\\x80\\xe0\\xa9\\x02\\xad\\xad\\xad\\xe2Vu\\xf7\\xc8W\\x11\\xc3\\xe5\\xdc\\xea\\xb8\\x0b$\\x7f\\x85\\x82p\\xab\\xa9\\xa9\\tEiw\\xdb\\x02\\xe7\\xa6.1\\x1e\\x17\\x11\\x99N\\xb4\\xcb\\xf8h\\xe7%^\\xef\\x9a\\xa9\\xfbDdG\\xcc\\xa0\\x12h\\x11\\x1dD\\x01\\xe2\\xe1\\x18\\xc0\\xbc\\x87\\xcf[\\'Ag\\x97\\x97\\x97\\xbb\\xb1>\\xda{D\\xbdL(\\x82\\x16\\xcbI\\xd5\\xe2[\\x89\\x14\\xc4\\xf0\\xa5\\x92\\x8c\\x07\\x0f\\x1e8\\xfekll\\xdc\\xd9\\xd9\\x19\\x1c\\x1cT\\xb7\\xe5\\xceM]\\xe2\\xed\\xf5u\\x91\\xe9D\\x1b9\\xd0\\xceK<\\x9dd\\xea>\\x11\\x84j\\xcc\\xefE\\xbb\\x14@\\x01\\xa2\\x00\\x96R\\xe4\\xf4\\xe9\\xd3L\\xd3\\x91\\xb7NB\\xd7\\xf3\\xbao\\xdf\\x16\\x16\\x16xI\\xc0\\xbc\\t\\t\\xdd>.\\x82~\\xd6\\xfc\\x95p\\x10w>\\rA\\x17\\x82(hF\\xbd\\xc8\\xdc1vI\\xb2C\\x0b\\x84\\xea\\x04\\xdf\\x81\\xc9rh\\xea%\\x9eN2u\\x9fH\\xb0\\xe3r\\xc0\\x10\\x94\\x16Q@\\x8f\\xd7\\xd1\\xd1\\xc1\"\\x04\\x0c\\x8f\\xb6\\x02y\\xeb\\x04\\x1c9r\\x84\\x99\\x8b\\xb8\\xeb \\xd6\\xd7\\xd7\\x83\\r\\x92\\xe2\\xa0\\x06\\x1f\\xb2eE\"\\xe8\\x04h\\x1d\\x1d\\xe7xb|\\xc3\\xb3\\x85\\x03s\\xb5G\\x90\\x14n\\xf8\\xff\\x98\\x84j\\nBub\\xb2\\xf1\\x8b\\xa6^\\xe2\\xe9\\x04d\\xe7>\\x91\\xd0\\x9d\\x9b \\xc6:=\\x04\\xdb\\xe21\\xb0\"\\xe6\\xbdS\\tt\\x12\\xba\\xf8\\xc7}Y\\xeb;i\\x17\\x1f\\x9d\\xeb&\\xc0[\\xb2\\x83\\x0b\\\\\\x10\\'\\xc4\\x1e\\xa5\\xf8\\x9c\\x17ic:\\x06\\xa6Q\\xe7||\\x84\\xea\\x04O-\\x93\\xe5\\xd0\\xd4Kl\\x9dd\\xe7>\\x11D\\xc8,\\xc2\\x0b\\xfcK\\x0b\\x03fffd\\xfd\\x92\\x83\\xf9\\x01\\xf8%\\xd0\\t\\xb20\\xb3\\x80\\xf3\\x12\\xf0\\xd5\\xabW\\xbe\\x01\\x9c\\xf6e\\xb3\\x0fY\\xfd\\x8a\\xa0\\xcd\\x8b\\xb4\\x86\\xc2\\x05\\xcf\\x16\\x8b(\\xb2\\xbc\\xbc\\xcc\\xb40hT \\xc9\\x91\\x8a\\x0e\\xa1:1i_i\\xea%\\xb6N2u\\x9f\\x0b2\\xb2\\x88\\x00\\x86\\x8f\\x1c\\x82@\\xc5\\xa2X\\x07\\xf3\\xa3EJ\\xa0\\x13\\x10\\xec\\xbb\\xc1\\x89\\x13\\'|\\x7f\\x18>\\x9a\\xec\\xc9\\x14A//\\x9bR\\xf4\\x81\\x805RH\\xf0\\xfc\\xf9s\\xe6\\x14P\\xef\\x17\\xa7Q\\x813g\\xce\\xf0j\\\\Bub\\xb2\\xb8\\x90\\xa6^b\\xeb\\x04d\\xe7>\\x17\\xd9Y-\\xc0dj\\x18\\x8f%\\xc6\\xa2\\xcc \\xc7|\\x19Qit\\x12\\xdaw\\x071\\x9f\\x8e\\x101,\\x1c@Qh\\x8fa\\x8f\\xfa\\x82f\\xd4\\xe7D\\x86\\xbe\\xc4T/[\\xa2Q\\x81$\\xe3\"\\x87P\\x9d\\x98\\xac\\x07\\xa1\\xa9\\x97$:\\xc9\\xd4}\\x0e\\x08\\xa1}]\\x93\\x0b\\x06\\x1b\\xcepH\\x06\\xc6\\x81\\xc1\\x9f\\x10\\x0b\\x95\\x8d\\xf9\\xd3[\\x1a\\x9d \\x17\\xf3+19X)\\x94\\xa1\\xa1!\\x16\\x11\\x91={\\xf68\\xca\\xf1\\xed\\x13\\x96\\x9d\\xc6\\r\\x14m\\x12-\\n$\\xff-\\xa8P\\x9d\\\\\\xbat\\x89\\xc9rh\\xea%\\x89N\\xb2v\\x9fCp\\x1a\\xd7\\xe5j\\xe0\\x90\\x7f\\x17\\xb8#t+e\\xe8\\x91n\\xe6\\xe7\\x1e\\x96F\\'\\xe0\\xe8\\xd1\\xa3,B\\x02\\x1eY\\xc3\\xa3\\xb2C\\xc1s\\xc9\\x82\\xe2\\x82a\\xba\\xa3\\x81\\xb9\\xb99Y\\xdb\\x06\\x0c\\x7f\\xc4\\xc3\\xf0\\xc8/\\x05\\xa1:19\\xcb\\x90\\xa6^\\xf0019\\x16Y\\xbb\\x0f<x\\xf0\\x80e\\x05@D\\x07\\xa9\\xf8z\\x15t#\\x08\\x83}\\xb1\\x9fK\\xf0\\x9d\\x81\\xc9\\x94\\xbaK\\xc9t\\xa2\\xfdu\\xab\\xe4\\xbf\\xef\\x1azzb$\\xea\\xea\\xea\\x1a\\x1b\\x1b\\xf9A\\xe0\\xec\\xd9\\xb3\\xd3\\xd3\\xd3N\\xe7\\xaex\\xd9\\xec\\x18;\\xa8G\\xfc&\\x84*_\\xfb\\xee\\x12M&M\\xbd$\\xd9Y\\trp\\x1f\\xf0\\x1d\\xf5\\xe2\\x03A/F}}}}\\x08\\x89\\xa1[\\x99B\\x00B\\xb5w\\xef\\xde\\xf1C\\x91H3+%\\xd3\\x89\\xf6]\\x87\\xe1\\xc6\\x005333{u\\xbf\\x0f\\x1a\\x15<\\x01\\xce\\xebE\\x8cL\\xd4\\x03Af(\\xb4\\x7f\\xea7\\x92&\\xac\\xaf\\xaf\\xa3\\x91f\\x89E\\xb436\\xb2\\x83\\x9a\\x12\\xfe\\x80[>\\xee\\x9b\\x9f\\x9fgq\\xc9p\\x16k\\xfa\\xa6+#\\xedGJ\\xa4\\x93#G\\x8e\\xc0y\\xb4\\x8b\\xc8\\xf5\\xeb\\xd7YJ\\x18555\\x86\\x0b9\\xb5@\\xc9\\xa1\\xb1i\\x0cP\\xd1\\x91\\x0e\\x16b\\xb6d\\xc7@\\x8a\\x04\\x0f\\xe1\\xd7\\x9e\\xf9\\t\\x07\\xd1T \\xeaI\\xc1Ars_\\xe8\\xef\\x0eD\\xe5u\\xe1G\\xb71\\xec\\x14\\xfb\\x9cH=^L\\x9dTTT\\xa0\\xe7M\\xf2\\xe2Lv\\xa8\\xa6C\\xc2\\x85XA\\xd0\\xf0wvv\\x06\\xdbc\\x13\\xd0#Ai\\x08\\xb4\\xa2\\xf6\\t\\xcc\\x9f\\xdei/x\\xe8}/RM\\xb6\\x19\\x05\\xc7\\x12I\\x8eGr\\xc8\\xd3}\\x17.\\\\`\\xb9\\xb1p\\x0fCZ]]\\x15\\x97ij\\xcf\\x15\\x10\\x89\\xa3\\x13\\xb4\\x8e\\t{m\\xed\\x84\\x89\\xf6w\\x8a\\xe3\\xf1\\xf9\\xf3\\xe7\\xa5\\xa5%(\\x1cAm{{;j\\r#\\x8d\\x8e\\x8e\\x8eK\\x97.\\xe1\\xd1A/\\x7f\\xff\\xfe}\\xf4\\x187o\\xde\\xc4\\xc7\\xa9\\xa9)\\xb4\\xd6\\x18W\\xc4k\\x0e\\xa0L\\xfe1\\x85\\xd7p\\xe8\\xfa\\'\\'\\'\\x99\\x96\\x00\\xdf9\\x8b&\\xaf\\x80\\x10\\x9b\\xd1\\xba\\x00d\\x9fp\\x84\\x9d\\xbf\\xfb\\x10\\xc5\\x85\\xbe\\xb4\\xd1\\x82\\x06N\\xdc\\x9f\\xfc\\xf0\\xe1C&\\x14\\xa2\\xa1\\x1b7n\\x18\\xae\\xf7\\xd3\\xe8\\x04\\xbd\\'K-\\x82\\xa8.v\\xac\\xe5\\x12:u\\xe3\\x92V\\x94RZ\\xd6\\xd6\\xd6\\xc4\\x1f\\xf4\\xaa\\xab\\xab3\\xd9\\x02i\\x82[{\\x88\"\\x0c\\x7f\\x1b\\x0c1\\x86\\x93\\x05\\xa0y\\xe6\\xd5\\xb8\\x94\\xca}\\x08\\x9fn\\xdf\\xbe=666::z\\xe5\\xca\\x15\\xf4\\xd2\\x8aw\\xca\\xc7\\x8f\\x1f\\x0f]u\\xd1\\xd0\\xd0@\\x8b\\x02\\x86\\x1bZ\\xf4\\xfd\\x89\\xf8\\x93H\\xbd\\xbd\\xbd\\xeaW<\\x86\\xa8\\xe71\\x92\\xac\\x9d\\xdem`\\x18}\\xf5\\xeaU\\x08&\\xder@\\x19O\\x9f>E\\xaf\\xf8\\xe8\\xd1#~\\xd6\\x81\\x88\\xd1]\\x9c\\xe6\\x04\\xebI\\xd8=\\xeeC\\x80\\x80\\xaa@\\xe7\\x0f\\xd9@\\xff\\x83\\x83\\x83\\xf8\\x0f\\xba\\\\\\xc5n\\xde\\xc5\\xc5\\xc5\\xda\\xdaZ\\xc4\\x11\\xe8\\xde\\xcd\\x9d\\xa2\\xd7\\t\\xba\\xad\\xea\\xeaj\\xfc\\xfd\\x18\\x06\\xf1R2|?\\xfc\\x17\\xc4\\xe4\\x9c}KT\\xd0\\xc0a\\xd8\\x90|\\xa4\\xf4m\\xbaO\\xaf\\x13\\x80H\\xdd\\xf0\\x94r\\x13B\\xb7Y\\xbb\\x18\\x9e\\xfbo\\x89G\\xd4\\xdfp\\r\\xf2m\\xba\\xcfH\\'\\xe9\\xa2X\\x03\\x02\\xa2\\xfe\\x08\\xa0%g\\xbeM\\xf7\\x95@\\'\\xc07\\x96r\\xd9\\x13\\xebGe-9\\xf3\\r\\xba\\xaf\\x04:\\xc18R6\\xc7g\\xbe\\x0f\\xd3R*\\xbeM\\xf7\\xa5\\xac\\x93\\xd5\\xd5U\\xc5\\xefDc(9<<\\xacX\\x87\\xa3^\\x06b\\xc9\\x1a\\xeb>\\x19)\\xeb\\xe4\\xed\\xdb\\xb7\\xb3\\xb3\\xb3\\xb2\\x17,\\xce\\xb6r\\x19\\xe6\\x87\\xc4X2\\xc2\\xbaOF\\xfaqWss3Z\\x9d\\x8f\\x1f?nmm=|\\xf8prrrjjjmmmii\\x895*\\xc1\\x8e\\xe0w\\x03\\xd6}\\xa1\\xa4\\xac\\x13w\\x19iSS\\x93\\xf3\\xd6\\xc5\\xa1\\xaa\\xaaJ\\xbds=\\xf9b\\nKr\\xac\\xfbd\\xa4\\xac\\x13\\xc5\\xca\\\\\\xc4\\xb5\\x8aU\\x06CCC,\\xc2R:\\xac\\xfbd\\xa4\\xa9\\x13q\\xe5_$\\xe0\\x03D\\xc6,\\xc5R\"\\xac\\xfb\\x14\\xa4\\xa6\\x13\\xd4\\x94\\xa2\\xbdq\\x90M\\x95\\xc4;\\xe4\\xcf\\x92\"\\xd6}jR\\xd3\\x89b73\\xa8\\xaf\\xafw\\x8e\\xa8\\xd9\\xd8\\xd8XYY\\x99\\x9d\\x9d\\xbd|\\xf9rcc#|SYY\\x99\\xee\\x1aAK\\x0c\\xac\\xfb\\xd4\\xa4\\x19w\\xc9\\xf6\\xd3\\xa06eG0\\xa2\\xde\\xed\\xaa\\xc7]\\x82u\\x9f\\x82\\x94\\xc7\\xf1\\xc3\\xc3\\xc3\\xbe\\x13f\\xab\\xab\\xab\\xe3\\x1d\\xbeh\\xc9\\x1f\\xeb>\\x19)\\xeb\\x04|\\xfa\\xf4izz\\x1a5\\x8e\\xf6\\xe9\\xe6\\xcd\\x9b\\xc97uY\\xf2\\xc4\\xba/\\x94\\xf4ub\\xb1\\xfc\\xf7\\xb0:\\xb1X\\xf4X\\x9dX,z\\xacN,\\x16=V\\'\\x16\\x8b\\x1e\\xab\\x13\\x8bE\\xc7\\x97/\\xff\\x03\\x90\\xe2|\\x12\\xdf\\x14\\xe9 \\x00\\x00\\x00\\x00IEND\\xaeB`\\x82'\n"
     ]
    }
   ],
   "source": [
    "url = 'https://img.lychiyu.com/logo.png'\n",
    "res = requests.get(url)\n",
    "print(res.text) # textt返回的是Unicode型的数据\n",
    "print(res.content) #content返回的是bytes型也就是二进制的数据"
   ]
  },
  {
   "cell_type": "markdown",
   "metadata": {},
   "source": [
    "### 添加headers"
   ]
  },
  {
   "cell_type": "code",
   "execution_count": 19,
   "metadata": {},
   "outputs": [
    {
     "name": "stdout",
     "output_type": "stream",
     "text": [
      "{'args': {}, 'headers': {'Accept': '*/*', 'Accept-Encoding': 'gzip, deflate', 'Connection': 'close', 'Host': 'httpbin.org', 'User-Agent': 'Mozilla/4.0 (compatible; MSIE 5.5; Windows NT)'}, 'origin': '223.74.155.48', 'url': 'https://httpbin.org/get'}\n"
     ]
    }
   ],
   "source": [
    "url = 'https://httpbin.org/get'\n",
    "headers = {\n",
    "    'User-Agent': 'Mozilla/4.0 (compatible; MSIE 5.5; Windows NT)',\n",
    "    'Host': 'httpbin.org'\n",
    "}\n",
    "res = requests.get(url, headers=headers)\n",
    "print(res.json())"
   ]
  },
  {
   "cell_type": "code",
   "execution_count": 21,
   "metadata": {},
   "outputs": [
    {
     "name": "stdout",
     "output_type": "stream",
     "text": [
      "{'args': {}, 'data': '', 'files': {}, 'form': {'name': 'lychiyu'}, 'headers': {'Accept': '*/*', 'Accept-Encoding': 'gzip, deflate', 'Connection': 'close', 'Content-Length': '12', 'Content-Type': 'application/x-www-form-urlencoded', 'Host': 'httpbin.org', 'User-Agent': 'Mozilla/4.0 (compatible; MSIE 5.5; Windows NT)'}, 'json': None, 'origin': '223.74.155.48', 'url': 'https://httpbin.org/post'}\n",
      "True\n"
     ]
    }
   ],
   "source": [
    "url = 'https://httpbin.org/post'\n",
    "headers = {\n",
    "    'User-Agent': 'Mozilla/4.0 (compatible; MSIE 5.5; Windows NT)',\n",
    "    'Host': 'httpbin.org'\n",
    "}\n",
    "data = {\n",
    "    'name': 'lychiyu'\n",
    "}\n",
    "res = requests.post(url, data=data, headers=headers)\n",
    "print(res.json())\n",
    "\n",
    "print(res.status_code == requests.codes.ok)"
   ]
  },
  {
   "cell_type": "code",
   "execution_count": null,
   "metadata": {},
   "outputs": [],
   "source": []
  }
 ],
 "metadata": {
  "kernelspec": {
   "display_name": "Python 3",
   "language": "python",
   "name": "python3"
  },
  "language_info": {
   "codemirror_mode": {
    "name": "ipython",
    "version": 3
   },
   "file_extension": ".py",
   "mimetype": "text/x-python",
   "name": "python",
   "nbconvert_exporter": "python",
   "pygments_lexer": "ipython3",
   "version": "3.6.4"
  }
 },
 "nbformat": 4,
 "nbformat_minor": 1
}
