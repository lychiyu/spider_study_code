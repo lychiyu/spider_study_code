{
 "cells": [
  {
   "cell_type": "markdown",
   "metadata": {},
   "source": [
    "## re模块"
   ]
  },
  {
   "cell_type": "markdown",
   "metadata": {},
   "source": [
    "### 常见的匹配模式\n",
    "\n",
    "| 模式| 描述|\n",
    "|----|----|\n",
    "| \\w\t| 匹配字母数字及下划线 |\n",
    "| \\W\t| 匹配非字母数字下划线 |\n",
    "| \\s\t| 匹配任意空白字符，等价于 [\\t\\n\\r\\f]. |\n",
    "| \\S\t| 匹配任意非空字符 |\n",
    "| \\d\t| 匹配任意数字，等价于 [0-9] |\n",
    "| \\D\t| 匹配任意非数字 |\n",
    "| \\A\t| 匹配字符串开始 |\n",
    "| \\Z\t| 匹配字符串结束，如果是存在换行，只匹配到换行前的结束字符串 |\n",
    "| \\z\t| 匹配字符串结束 |\n",
    "| \\G\t| 匹配最后匹配完成的位置 |\n",
    "| \\n | 匹配一个换行符 |\n",
    "| \\t | 匹配一个制表符 |\n",
    "| ^\t| 匹配字符串的开头 |\n",
    "| $\t| 匹配字符串的末尾。|\n",
    "| .\t| 匹配任意字符，除了换行符，当re.DOTALL标记被指定时，则可以匹配包括换行符的任意字符。|\n",
    "| [...]\t| 用来表示一组字符,单独列出：[amk] 匹配 'a'，'m'或'k' |\n",
    "| [^...]\t| 不在[]中的字符：[^abc] 匹配除了a,b,c之外的字符。| \n",
    "| *\t| 匹配0个或多个的表达式。|\n",
    "| +\t| 匹配1个或多个的表达式。|\n",
    "| ?\t| 匹配0个或1个由前面的正则表达式定义的片段，非贪婪方式| \n",
    "| {n}\t| 精确匹配n个前面表达式。|\n",
    "| {n, m} | 匹配 n 到 m 次由前面的正则表达式定义的片段，贪婪方式| \n",
    "| a&#124;b | 匹配a或b |\n",
    "| ( )\t| 匹配括号内的表达式，也表示一个组 |"
   ]
  },
  {
   "cell_type": "markdown",
   "metadata": {},
   "source": [
    "### re.match\n",
    "尝试从字符串的起始位置进行模式匹配，如果不是起始位置匹配成功 return none\n",
    "\n",
    "```python\n",
    "re.match(pattern, str, flags=0)\n",
    "```"
   ]
  },
  {
   "cell_type": "code",
   "execution_count": 6,
   "metadata": {},
   "outputs": [],
   "source": [
    "import re\n",
    "content = \"lychiyu 1229 _jgsu Cs end\""
   ]
  },
  {
   "cell_type": "markdown",
   "metadata": {},
   "source": [
    "### 常规模式"
   ]
  },
  {
   "cell_type": "code",
   "execution_count": 8,
   "metadata": {},
   "outputs": [
    {
     "name": "stdout",
     "output_type": "stream",
     "text": [
      "<_sre.SRE_Match object; span=(0, 25), match='lychiyu 1229 _jgsu Cs end'>\n",
      "lychiyu 1229 _jgsu Cs end\n",
      "(0, 25)\n"
     ]
    }
   ],
   "source": [
    "rlt = re.match('^lychiyu\\s\\d{4}\\s\\w{5}.*end$', content)\n",
    "print(rlt)\n",
    "print(rlt.group()) # group() 匹配的结果\n",
    "print(rlt.span()) # span() 匹配的范围"
   ]
  },
  {
   "cell_type": "markdown",
   "metadata": {},
   "source": [
    "### 泛匹配"
   ]
  },
  {
   "cell_type": "code",
   "execution_count": 9,
   "metadata": {},
   "outputs": [
    {
     "name": "stdout",
     "output_type": "stream",
     "text": [
      "<_sre.SRE_Match object; span=(0, 25), match='lychiyu 1229 _jgsu Cs end'>\n",
      "lychiyu 1229 _jgsu Cs end\n",
      "(0, 25)\n"
     ]
    }
   ],
   "source": [
    "rlt = re.match('^lychiyu.*end$', content)\n",
    "print(rlt)\n",
    "print(rlt.group()) # group() 匹配的结果\n",
    "print(rlt.span()) # span() 匹配的范围"
   ]
  },
  {
   "cell_type": "markdown",
   "metadata": {},
   "source": [
    "### 获取匹配目标"
   ]
  },
  {
   "cell_type": "code",
   "execution_count": 11,
   "metadata": {},
   "outputs": [
    {
     "name": "stdout",
     "output_type": "stream",
     "text": [
      "<_sre.SRE_Match object; span=(0, 25), match='lychiyu 1229 _jgsu Cs end'>\n",
      "1229\n",
      "(0, 25)\n"
     ]
    }
   ],
   "source": [
    "rlt = re.match('^lychiyu\\s(\\d+)\\s\\w{5}.*end$', content) # (\\d+)匹配目标\n",
    "print(rlt)\n",
    "print(rlt.group(1))\n",
    "print(rlt.span())"
   ]
  },
  {
   "cell_type": "markdown",
   "metadata": {},
   "source": [
    "### 贪婪匹配"
   ]
  },
  {
   "cell_type": "code",
   "execution_count": 16,
   "metadata": {},
   "outputs": [
    {
     "name": "stdout",
     "output_type": "stream",
     "text": [
      "<_sre.SRE_Match object; span=(0, 25), match='lychiyu 1229 _jgsu Cs end'>\n",
      "9\n",
      "(0, 25)\n"
     ]
    }
   ],
   "source": [
    "rlt = re.match('^ly.*(\\d+).*end$', content) # .* 贪婪匹配会匹配尽可能多的目标知道匹配不到为止\n",
    "print(rlt)\n",
    "print(rlt.group(1))\n",
    "print(rlt.span())"
   ]
  },
  {
   "cell_type": "markdown",
   "metadata": {},
   "source": [
    "### 非贪婪匹配"
   ]
  },
  {
   "cell_type": "code",
   "execution_count": 17,
   "metadata": {},
   "outputs": [
    {
     "name": "stdout",
     "output_type": "stream",
     "text": [
      "<_sre.SRE_Match object; span=(0, 25), match='lychiyu 1229 _jgsu Cs end'>\n",
      "1229\n",
      "(0, 25)\n"
     ]
    }
   ],
   "source": [
    "rlt = re.match('^ly.*?(\\d+).*end$', content) # .*? 非贪婪匹配会匹配尽可能少的目标\n",
    "print(rlt)\n",
    "print(rlt.group(1))\n",
    "print(rlt.span())"
   ]
  },
  {
   "cell_type": "markdown",
   "metadata": {},
   "source": [
    "### 转义"
   ]
  },
  {
   "cell_type": "code",
   "execution_count": 19,
   "metadata": {},
   "outputs": [
    {
     "name": "stdout",
     "output_type": "stream",
     "text": [
      "<_sre.SRE_Match object; span=(0, 13), match='price is $500'>\n"
     ]
    }
   ],
   "source": [
    "content = \"price is $500\"\n",
    "rlt = re.match('price is \\$500', content) # 使用 \\ 来进行转义\n",
    "print(rlt)"
   ]
  },
  {
   "cell_type": "markdown",
   "metadata": {},
   "source": [
    "### re.search\n",
    "扫描整个字符串并返回第一个成功的匹配"
   ]
  },
  {
   "cell_type": "code",
   "execution_count": 22,
   "metadata": {},
   "outputs": [
    {
     "name": "stdout",
     "output_type": "stream",
     "text": [
      "<_sre.SRE_Match object; span=(8, 12), match='1229'>\n",
      "1229\n"
     ]
    }
   ],
   "source": [
    "content = \"lychiyu 1229 _jgsu Cs end\"\n",
    "rlt = re.search('\\d{4}', content)\n",
    "print(rlt)\n",
    "print(rlt.group())"
   ]
  },
  {
   "cell_type": "markdown",
   "metadata": {},
   "source": [
    "### re.findall\n",
    "扫描整个字符串并返回所有成功的匹配结果列表"
   ]
  },
  {
   "cell_type": "code",
   "execution_count": 25,
   "metadata": {},
   "outputs": [
    {
     "name": "stdout",
     "output_type": "stream",
     "text": [
      "['12', '29']\n"
     ]
    }
   ],
   "source": [
    "rlt = re.findall('\\d{2}', content)\n",
    "print(rlt)"
   ]
  },
  {
   "cell_type": "markdown",
   "metadata": {},
   "source": [
    "### re.sub\n",
    "替换字符串中的每一个匹配的子串后返回替换后的字符串"
   ]
  },
  {
   "cell_type": "code",
   "execution_count": 29,
   "metadata": {},
   "outputs": [
    {
     "name": "stdout",
     "output_type": "stream",
     "text": [
      "lychiyu 12 substr29 substr _jgsu Cs end\n"
     ]
    }
   ],
   "source": [
    "rlt = re.sub('(\\d{2})', r'\\1 substr', content) # r'\\1 可以获取匹配到的group的值\n",
    "print(rlt)"
   ]
  },
  {
   "cell_type": "markdown",
   "metadata": {},
   "source": [
    "### re.compile\n",
    "将正则字符串编译成正则表达式对象"
   ]
  },
  {
   "cell_type": "code",
   "execution_count": 30,
   "metadata": {},
   "outputs": [
    {
     "name": "stdout",
     "output_type": "stream",
     "text": [
      "['12', '29']\n"
     ]
    }
   ],
   "source": [
    "pattern = re.compile('\\d{2}')\n",
    "rlt = re.findall(pattern, content)\n",
    "print(rlt)"
   ]
  },
  {
   "cell_type": "markdown",
   "metadata": {},
   "source": [
    "### 练习"
   ]
  },
  {
   "cell_type": "code",
   "execution_count": null,
   "metadata": {},
   "outputs": [],
   "source": [
    "import requests, re\n",
    "content = requests.get('https://book.douban.com/').text"
   ]
  },
  {
   "cell_type": "code",
   "execution_count": null,
   "metadata": {},
   "outputs": [],
   "source": [
    "print(content)"
   ]
  },
  {
   "cell_type": "code",
   "execution_count": null,
   "metadata": {},
   "outputs": [],
   "source": [
    "pattern = re.compile('<li.*?cover.*?href=\"(.*?)\".*?title=\"(.*?)\".*?author\">(.*?)</div>.*?</li>', re.S)\n",
    "rlt = re.findall(pattern, content)\n",
    "print(rlt)"
   ]
  },
  {
   "cell_type": "code",
   "execution_count": null,
   "metadata": {},
   "outputs": [],
   "source": []
  }
 ],
 "metadata": {
  "kernelspec": {
   "display_name": "Python 3",
   "language": "python",
   "name": "python3"
  },
  "language_info": {
   "codemirror_mode": {
    "name": "ipython",
    "version": 3
   },
   "file_extension": ".py",
   "mimetype": "text/x-python",
   "name": "python",
   "nbconvert_exporter": "python",
   "pygments_lexer": "ipython3",
   "version": "3.6.4"
  }
 },
 "nbformat": 4,
 "nbformat_minor": 2
}
